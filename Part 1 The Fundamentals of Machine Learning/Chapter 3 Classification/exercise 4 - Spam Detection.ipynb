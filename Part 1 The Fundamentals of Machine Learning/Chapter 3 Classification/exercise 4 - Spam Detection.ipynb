{
 "cells": [
  {
   "metadata": {},
   "cell_type": "raw",
   "source": [
    "Exercise 4: Spam classifier\n",
    "Build a spam classifier (a more challenging exercise):\n",
    "• Download examples of spam and ham from Apache SpamAssassin’s public\n",
    "datasets.\n",
    "• Unzip the datasets and familiarize yourself with the data format.\n",
    "• Split the datasets into a training set and a test set.\n",
    "• Write a data preparation pipeline to convert each email into a feature vector.\n",
    "Your preparation pipeline should transform an email into a (sparse) vector that\n",
    "indicates the presence or absence of each possible word. For example, if all\n",
    "emails only ever contain four words, “Hello,” “how,” “are,” “you,” then the email\n",
    "“Hello you Hello Hello you” would be converted into a vector [1, 0, 0, 1]\n",
    "(meaning [“Hello” is present, “how” is absent, “are” is absent, “you” is\n",
    "present]), or [3, 0, 0, 2] if you prefer to count the number of occurrences of\n",
    "each word.\n",
    "You may want to add hyperparameters to your preparation pipeline to control\n",
    "whether or not to strip off email headers, convert each email to lowercase,\n",
    "remove punctuation, replace all URLs with “URL,” replace all numbers with\n",
    "“NUMBER,” or even perform stemming (i.e., trim off word endings; there are\n",
    "Python libraries available to do this).\n",
    "Finally, try out several classifiers and see if you can build a great spam classi‐\n",
    "fier, with both high recall and high precision."
   ],
   "id": "1b9a938da52dc1f9"
  },
  {
   "metadata": {},
   "cell_type": "markdown",
   "source": "First let's fetch the data",
   "id": "554169989beac365"
  },
  {
   "metadata": {
    "ExecuteTime": {
     "end_time": "2025-06-13T12:48:25.588910Z",
     "start_time": "2025-06-13T12:48:25.574911Z"
    }
   },
   "cell_type": "code",
   "source": [
    "import os\n",
    "import tarfile\n",
    "import urllib.request\n",
    "\n",
    "from send2trash.util import preprocess_paths\n",
    "\n",
    "DOWNLOAD_ROOT = \"http://spamassassin.apache.org/old/publiccorpus/\"\n",
    "HAM_URL = DOWNLOAD_ROOT + \"20030228_easy_ham.tar.bz2\"\n",
    "SPAM_URL = DOWNLOAD_ROOT + \"20030228_spam.tar.bz2\"\n",
    "SPAM_PATH = os.path.join(\"datasets\", \"spam\")\n",
    "\n",
    "\n",
    "def fetch_spam_data(ham_url=HAM_URL, spam_url=SPAM_URL, spam_path=SPAM_PATH):\n",
    "\tif not os.path.isdir(spam_path):\n",
    "\t\tos.makedirs(spam_path)\n",
    "\tfor filename, url in ((\"ham.tar.bz2\", ham_url), (\"spam.tar.bz2\", spam_url)):\n",
    "\t\tpath = os.path.join(spam_path, filename)\n",
    "\t\tif not os.path.isfile(path):\n",
    "\t\t\turllib.request.urlretrieve(url, path)\n",
    "\t\ttar_bz2_file = tarfile.open(path)\n",
    "\t\ttar_bz2_file.extractall(path=spam_path)\n",
    "\t\ttar_bz2_file.close()\n"
   ],
   "id": "4adcfefc1416613d",
   "outputs": [],
   "execution_count": 1
  },
  {
   "metadata": {
    "ExecuteTime": {
     "end_time": "2025-06-13T12:48:28.873307Z",
     "start_time": "2025-06-13T12:48:25.604911Z"
    }
   },
   "cell_type": "code",
   "source": "fetch_spam_data()",
   "id": "f80714efa486c8c2",
   "outputs": [],
   "execution_count": 2
  },
  {
   "metadata": {
    "ExecuteTime": {
     "end_time": "2025-06-13T12:48:29.500204Z",
     "start_time": "2025-06-13T12:48:29.485712Z"
    }
   },
   "cell_type": "code",
   "source": [
    "HAM_DIR = os.path.join(SPAM_PATH, \"easy_ham\")\n",
    "SPAM_DIR = os.path.join(SPAM_PATH, \"spam\")\n",
    "\n",
    "ham_filenames = [name for name in sorted(os.listdir(HAM_DIR)) if len(name) > 20]\n",
    "spam_filenames = [name for name in sorted(os.listdir(SPAM_DIR)) if len(name) > 20]"
   ],
   "id": "8984abea45294af9",
   "outputs": [],
   "execution_count": 3
  },
  {
   "metadata": {
    "ExecuteTime": {
     "end_time": "2025-06-13T12:48:29.539234Z",
     "start_time": "2025-06-13T12:48:29.529590Z"
    }
   },
   "cell_type": "code",
   "source": "len(ham_filenames), len(spam_filenames)",
   "id": "e0e4aff7e9c46e27",
   "outputs": [
    {
     "data": {
      "text/plain": [
       "(2500, 500)"
      ]
     },
     "execution_count": 4,
     "metadata": {},
     "output_type": "execute_result"
    }
   ],
   "execution_count": 4
  },
  {
   "metadata": {
    "ExecuteTime": {
     "end_time": "2025-06-13T12:48:29.768870Z",
     "start_time": "2025-06-13T12:48:29.754352Z"
    }
   },
   "cell_type": "code",
   "source": [
    "import email\n",
    "import email.policy\n",
    "\n",
    "\n",
    "def load_email(is_spam, filename, spam_path=SPAM_PATH):\n",
    "\tdirectory = \"spam\" if is_spam else \"easy_ham\"\n",
    "\twith open(os.path.join(spam_path, directory, filename), \"rb\") as f:\n",
    "\t\treturn email.parser.BytesParser(policy=email.policy.default).parse(f)\n"
   ],
   "id": "4ef2e44c926da6e4",
   "outputs": [],
   "execution_count": 5
  },
  {
   "metadata": {
    "ExecuteTime": {
     "end_time": "2025-06-13T12:49:13.309311Z",
     "start_time": "2025-06-13T12:48:29.831143Z"
    }
   },
   "cell_type": "code",
   "source": [
    "ham_emails = [load_email(is_spam=False, filename=name) for name in ham_filenames]\n",
    "spam_emails = [load_email(is_spam=True, filename=name) for name in spam_filenames]"
   ],
   "id": "a07d6493f3d4cef2",
   "outputs": [],
   "execution_count": 6
  },
  {
   "metadata": {
    "ExecuteTime": {
     "end_time": "2025-06-13T12:49:13.343474Z",
     "start_time": "2025-06-13T12:49:13.335521Z"
    }
   },
   "cell_type": "code",
   "source": "print(ham_emails[1].get_content().strip())",
   "id": "81ddc1e1f9fe8a6e",
   "outputs": [
    {
     "name": "stdout",
     "output_type": "stream",
     "text": [
      "Martin A posted:\n",
      "Tassos Papadopoulos, the Greek sculptor behind the plan, judged that the\n",
      " limestone of Mount Kerdylio, 70 miles east of Salonika and not far from the\n",
      " Mount Athos monastic community, was ideal for the patriotic sculpture. \n",
      " \n",
      " As well as Alexander's granite features, 240 ft high and 170 ft wide, a\n",
      " museum, a restored amphitheatre and car park for admiring crowds are\n",
      "planned\n",
      "---------------------\n",
      "So is this mountain limestone or granite?\n",
      "If it's limestone, it'll weather pretty fast.\n",
      "\n",
      "------------------------ Yahoo! Groups Sponsor ---------------------~-->\n",
      "4 DVDs Free +s&p Join Now\n",
      "http://us.click.yahoo.com/pt6YBB/NXiEAA/mG3HAA/7gSolB/TM\n",
      "---------------------------------------------------------------------~->\n",
      "\n",
      "To unsubscribe from this group, send an email to:\n",
      "forteana-unsubscribe@egroups.com\n",
      "\n",
      " \n",
      "\n",
      "Your use of Yahoo! Groups is subject to http://docs.yahoo.com/info/terms/\n"
     ]
    }
   ],
   "execution_count": 7
  },
  {
   "metadata": {
    "ExecuteTime": {
     "end_time": "2025-06-13T12:49:13.509095Z",
     "start_time": "2025-06-13T12:49:13.502097Z"
    }
   },
   "cell_type": "code",
   "source": "print(spam_emails[2].get_content().strip())",
   "id": "972c508cc1764fae",
   "outputs": [
    {
     "name": "stdout",
     "output_type": "stream",
     "text": [
      "1) Fight The Risk of Cancer!\n",
      "http://www.adclick.ws/p.cfm?o=315&s=pk007\n",
      "\n",
      "2) Slim Down - Guaranteed to lose 10-12 lbs in 30 days\n",
      "http://www.adclick.ws/p.cfm?o=249&s=pk007\n",
      "\n",
      "3) Get the Child Support You Deserve - Free Legal Advice\n",
      "http://www.adclick.ws/p.cfm?o=245&s=pk002\n",
      "\n",
      "4) Join the Web's Fastest Growing Singles Community\n",
      "http://www.adclick.ws/p.cfm?o=259&s=pk007\n",
      "\n",
      "5) Start Your Private Photo Album Online!\n",
      "http://www.adclick.ws/p.cfm?o=283&s=pk007\n",
      "\n",
      "Have a Wonderful Day,\n",
      "Offer Manager\n",
      "PrizeMama\n",
      "\n",
      "\n",
      "\n",
      "\n",
      "\n",
      "\n",
      "\n",
      "\n",
      "\n",
      "\n",
      "\n",
      "\n",
      "\n",
      "If you wish to leave this list please use the link below.\n",
      "http://www.qves.com/trim/?zzzz@spamassassin.taint.org%7C17%7C308417\n"
     ]
    }
   ],
   "execution_count": 8
  },
  {
   "metadata": {
    "ExecuteTime": {
     "end_time": "2025-06-13T12:49:13.609057Z",
     "start_time": "2025-06-13T12:49:13.601534Z"
    }
   },
   "cell_type": "code",
   "source": [
    "def get_email_structure(email):\n",
    "\tif isinstance(email, str):\n",
    "\t\treturn email\n",
    "\tpayload = email.get_payload()\n",
    "\tif isinstance(payload, list):\n",
    "\t\treturn \"multipart({})\".format(\", \".join([\n",
    "\t\t\tget_email_structure(sub_email)\n",
    "\t\t\tfor sub_email in payload\n",
    "\t\t]))\n",
    "\telse:\n",
    "\t\treturn email.get_content_type()"
   ],
   "id": "d046b2626a904ec3",
   "outputs": [],
   "execution_count": 9
  },
  {
   "metadata": {
    "ExecuteTime": {
     "end_time": "2025-06-13T12:49:13.708076Z",
     "start_time": "2025-06-13T12:49:13.702075Z"
    }
   },
   "cell_type": "code",
   "source": [
    "from collections import Counter\n",
    "\n",
    "\n",
    "def structures_counter(emails):\n",
    "\tstructures = Counter()\n",
    "\tfor email in emails:\n",
    "\t\tstructure = get_email_structure(email)\n",
    "\t\tstructures[structure] += 1\n",
    "\treturn structures"
   ],
   "id": "2612512cb84d866f",
   "outputs": [],
   "execution_count": 10
  },
  {
   "metadata": {
    "ExecuteTime": {
     "end_time": "2025-06-13T12:49:14.110955Z",
     "start_time": "2025-06-13T12:49:13.768494Z"
    }
   },
   "cell_type": "code",
   "source": "structures_counter(ham_emails).most_common(3)",
   "id": "238e1d4d7063aec9",
   "outputs": [
    {
     "data": {
      "text/plain": [
       "[('text/plain', 2408),\n",
       " ('multipart(text/plain, application/pgp-signature)', 66),\n",
       " ('multipart(text/plain, text/html)', 8)]"
      ]
     },
     "execution_count": 11,
     "metadata": {},
     "output_type": "execute_result"
    }
   ],
   "execution_count": 11
  },
  {
   "metadata": {
    "ExecuteTime": {
     "end_time": "2025-06-13T12:49:14.228318Z",
     "start_time": "2025-06-13T12:49:14.132176Z"
    }
   },
   "cell_type": "code",
   "source": "structures_counter(spam_emails).most_common(3)",
   "id": "615c9d8ddf3e4859",
   "outputs": [
    {
     "data": {
      "text/plain": [
       "[('text/plain', 218),\n",
       " ('text/html', 183),\n",
       " ('multipart(text/plain, text/html)', 45)]"
      ]
     },
     "execution_count": 12,
     "metadata": {},
     "output_type": "execute_result"
    }
   ],
   "execution_count": 12
  },
  {
   "metadata": {
    "ExecuteTime": {
     "end_time": "2025-06-13T12:49:14.270886Z",
     "start_time": "2025-06-13T12:49:14.262529Z"
    }
   },
   "cell_type": "code",
   "source": [
    "for header, value in spam_emails[0].items():\n",
    "\tprint(f\"{header} : {value}\")"
   ],
   "id": "c069935b4a15fdda",
   "outputs": [
    {
     "name": "stdout",
     "output_type": "stream",
     "text": [
      "Return-Path : <12a1mailbot1@web.de>\n",
      "Delivered-To : zzzz@localhost.spamassassin.taint.org\n",
      "Received : from localhost (localhost [127.0.0.1])\tby phobos.labs.spamassassin.taint.org (Postfix) with ESMTP id 136B943C32\tfor <zzzz@localhost>; Thu, 22 Aug 2002 08:17:21 -0400 (EDT)\n",
      "Received : from mail.webnote.net [193.120.211.219]\tby localhost with POP3 (fetchmail-5.9.0)\tfor zzzz@localhost (single-drop); Thu, 22 Aug 2002 13:17:21 +0100 (IST)\n",
      "Received : from dd_it7 ([210.97.77.167])\tby webnote.net (8.9.3/8.9.3) with ESMTP id NAA04623\tfor <zzzz@spamassassin.taint.org>; Thu, 22 Aug 2002 13:09:41 +0100\n",
      "From : 12a1mailbot1@web.de\n",
      "Received : from r-smtp.korea.com - 203.122.2.197 by dd_it7  with Microsoft SMTPSVC(5.5.1775.675.6);\t Sat, 24 Aug 2002 09:42:10 +0900\n",
      "To : dcek1a1@netsgo.com\n",
      "Subject : Life Insurance - Why Pay More?\n",
      "Date : Wed, 21 Aug 2002 20:31:57 -1600\n",
      "MIME-Version : 1.0\n",
      "Message-ID : <0103c1042001882DD_IT7@dd_it7>\n",
      "Content-Type : text/html; charset=\"iso-8859-1\"\n",
      "Content-Transfer-Encoding : quoted-printable\n"
     ]
    }
   ],
   "execution_count": 13
  },
  {
   "metadata": {
    "ExecuteTime": {
     "end_time": "2025-06-13T12:49:14.348811Z",
     "start_time": "2025-06-13T12:49:14.340394Z"
    }
   },
   "cell_type": "code",
   "source": "spam_emails[0][\"Subject\"]",
   "id": "aae0fe5ca333d871",
   "outputs": [
    {
     "data": {
      "text/plain": [
       "'Life Insurance - Why Pay More?'"
      ]
     },
     "execution_count": 14,
     "metadata": {},
     "output_type": "execute_result"
    }
   ],
   "execution_count": 14
  },
  {
   "metadata": {
    "ExecuteTime": {
     "end_time": "2025-06-13T12:49:25.669628Z",
     "start_time": "2025-06-13T12:49:14.410250Z"
    }
   },
   "cell_type": "code",
   "source": [
    "import numpy as np\n",
    "from sklearn.model_selection import train_test_split\n",
    "\n",
    "X = np.array(ham_emails + spam_emails, dtype=object)\n",
    "y = np.array([0] * len(ham_emails) + [1] * len(spam_emails))\n",
    "\n",
    "X_train, X_test, y_train, y_test = train_test_split(X, y, test_size=0.2, random_state=42)\n"
   ],
   "id": "bf5fba5afb745a11",
   "outputs": [],
   "execution_count": 15
  },
  {
   "metadata": {
    "ExecuteTime": {
     "end_time": "2025-06-13T12:49:25.785964Z",
     "start_time": "2025-06-13T12:49:25.689356Z"
    }
   },
   "cell_type": "code",
   "source": [
    "from bs4 import BeautifulSoup\n",
    "from html import unescape\n",
    "import re\n",
    "\n",
    "\n",
    "def html_to_plain_text(html):\n",
    "\tsoup = BeautifulSoup(html, \"html.parser\")\n",
    "\n",
    "\thead = soup.head\n",
    "\tif head:\n",
    "\t\thead.decompose()\n",
    "\n",
    "\tfor a in soup.find_all(\"a\"):\n",
    "\t\ta.replace_with(\" HYPERLINK \")\n",
    "\n",
    "\ttext = soup.get_text()\n",
    "\n",
    "\ttext = re.sub(r'(\\s*\\n)+', \"\\n\", text, flags=re.M | re.S)\n",
    "\n",
    "\treturn unescape(text)\n",
    "\n",
    "\n",
    "def html_to_plain_text_re(html):\n",
    "\ttext = re.sub('<head.*?>.*?</head>', '', html, flags=re.M | re.S | re.I)\n",
    "\ttext = re.sub('<a\\s.*?>', ' HYPERLINK ', text, flags=re.M | re.S | re.I)\n",
    "\ttext = re.sub('<.*?>', '', text, flags=re.M | re.S)\n",
    "\ttext = re.sub(r'(\\s*\\n)+', '\\n', text, flags=re.M | re.S)\n",
    "\treturn unescape(text)"
   ],
   "id": "8028302d42aae75a",
   "outputs": [],
   "execution_count": 16
  },
  {
   "metadata": {
    "ExecuteTime": {
     "end_time": "2025-06-13T12:49:25.859708Z",
     "start_time": "2025-06-13T12:49:25.803397Z"
    }
   },
   "cell_type": "code",
   "source": [
    "html_spam_emails = [email for email in X_train[y_train == 1]\n",
    "\t\t\t\t\tif get_email_structure(email) == \"text/html\"]\n",
    "sample_html_spam = html_spam_emails[7]\n",
    "print(sample_html_spam.get_content().strip()[:1000], \"...\")"
   ],
   "id": "f66432459174f6c",
   "outputs": [
    {
     "name": "stdout",
     "output_type": "stream",
     "text": [
      "<HTML><HEAD><TITLE></TITLE><META http-equiv=\"Content-Type\" content=\"text/html; charset=windows-1252\"><STYLE>A:link {TEX-DECORATION: none}A:active {TEXT-DECORATION: none}A:visited {TEXT-DECORATION: none}A:hover {COLOR: #0033ff; TEXT-DECORATION: underline}</STYLE><META content=\"MSHTML 6.00.2713.1100\" name=\"GENERATOR\"></HEAD>\n",
      "<BODY text=\"#000000\" vLink=\"#0033ff\" link=\"#0033ff\" bgColor=\"#CCCC99\"><TABLE borderColor=\"#660000\" cellSpacing=\"0\" cellPadding=\"0\" border=\"0\" width=\"100%\"><TR><TD bgColor=\"#CCCC99\" valign=\"top\" colspan=\"2\" height=\"27\">\n",
      "<font size=\"6\" face=\"Arial, Helvetica, sans-serif\" color=\"#660000\">\n",
      "<b>OTC</b></font></TD></TR><TR><TD height=\"2\" bgcolor=\"#6a694f\">\n",
      "<font size=\"5\" face=\"Times New Roman, Times, serif\" color=\"#FFFFFF\">\n",
      "<b>&nbsp;Newsletter</b></font></TD><TD height=\"2\" bgcolor=\"#6a694f\"><div align=\"right\"><font color=\"#FFFFFF\">\n",
      "<b>Discover Tomorrow's Winners&nbsp;</b></font></div></TD></TR><TR><TD height=\"25\" colspan=\"2\" bgcolor=\"#CCCC99\"><table width=\"100%\" border=\"0\"  ...\n"
     ]
    }
   ],
   "execution_count": 17
  },
  {
   "metadata": {
    "ExecuteTime": {
     "end_time": "2025-06-13T12:49:25.890725Z",
     "start_time": "2025-06-13T12:49:25.882611Z"
    }
   },
   "cell_type": "code",
   "source": "html_to_plain_text_re(sample_html_spam.get_content())[:1000]\n",
   "id": "59d3e3cad3de61f4",
   "outputs": [
    {
     "data": {
      "text/plain": [
       "'\\nOTC\\n\\xa0Newsletter\\nDiscover Tomorrow\\'s Winners\\xa0\\nFor Immediate Release\\nCal-Bay (Stock Symbol: CBYI)\\nWatch for analyst \"Strong Buy Recommendations\" and several advisory newsletters picking CBYI.  CBYI has filed to be traded on the OTCBB, share prices historically INCREASE when companies get listed on this larger trading exchange. CBYI is trading around 25 cents and should skyrocket to $2.66 - $3.25 a share in the near future.\\nPut CBYI on your watch list, acquire a position TODAY.\\nREASONS TO INVEST IN CBYI\\nA profitable company and is on track to beat ALL earnings estimates!\\nOne of the FASTEST growing distributors in environmental & safety equipment instruments.\\nExcellent management team, several EXCLUSIVE contracts.  IMPRESSIVE client list including the U.S. Air Force, Anheuser-Busch, Chevron Refining and Mitsubishi Heavy Industries, GE-Energy & Environmental Research.\\nRAPIDLY GROWING INDUSTRY\\nIndustry revenues exceed $900 million, estimates indicate that there could be as much as $25 billi'"
      ]
     },
     "execution_count": 18,
     "metadata": {},
     "output_type": "execute_result"
    }
   ],
   "execution_count": 18
  },
  {
   "metadata": {
    "ExecuteTime": {
     "end_time": "2025-06-13T12:49:25.971960Z",
     "start_time": "2025-06-13T12:49:25.958903Z"
    }
   },
   "cell_type": "code",
   "source": [
    "import difflib\n",
    "\n",
    "text1 = html_to_plain_text(sample_html_spam.get_content())[:1000]\n",
    "text2 = html_to_plain_text_re(sample_html_spam.get_content())[:1000]\n",
    "\n",
    "# for i, s in enumerate(difflib.ndiff(text1, text2)):\n",
    "#     if s[0] != ' ':\n",
    "#         print(f\"Position {i}: {s}\")\n",
    "print(text1[10:50])\n",
    "# print(text2[40:50])"
   ],
   "id": "9b251b15debf9abf",
   "outputs": [
    {
     "name": "stdout",
     "output_type": "stream",
     "text": [
      "letter\n",
      "Discover Tomorrow's Winners\n",
      "For I\n"
     ]
    }
   ],
   "execution_count": 19
  },
  {
   "metadata": {
    "ExecuteTime": {
     "end_time": "2025-06-13T12:52:16.039270Z",
     "start_time": "2025-06-13T12:52:16.034271Z"
    }
   },
   "cell_type": "code",
   "source": [
    "def email_to_text(email):\n",
    "\thtml = None\n",
    "\n",
    "\tfor part in email.walk():\n",
    "\t\tctype = part.get_content_type()\n",
    "\t\tif not ctype in (\"text/plain\", \"text/html\"):\n",
    "\t\t\tcontinue\n",
    "\t\ttry:\n",
    "\t\t\tcontent = part.get_content()\n",
    "\t\texcept:\n",
    "\t\t\tcontent = str(part.get_payload())\n",
    "\t\tif ctype == \"text/plain\":\n",
    "\t\t\treturn content\n",
    "\t\telse:\n",
    "\t\t\thtml = content\n",
    "\tif html:\n",
    "\t\treturn html_to_plain_text(html)\n"
   ],
   "id": "aa507b2d4ff0cf14",
   "outputs": [],
   "execution_count": 30
  },
  {
   "metadata": {
    "ExecuteTime": {
     "end_time": "2025-06-13T12:52:17.464809Z",
     "start_time": "2025-06-13T12:52:17.454788Z"
    }
   },
   "cell_type": "code",
   "source": "print(email_to_text(sample_html_spam)[:100])",
   "id": "3fe5147b95010edc",
   "outputs": [
    {
     "name": "stdout",
     "output_type": "stream",
     "text": [
      "\n",
      "OTC\n",
      " Newsletter\n",
      "Discover Tomorrow's Winners\n",
      "For Immediate Release\n",
      "Cal-Bay (Stock Symbol: CBYI)\n",
      "Watc\n"
     ]
    }
   ],
   "execution_count": 31
  },
  {
   "metadata": {
    "ExecuteTime": {
     "end_time": "2025-06-13T13:04:03.156507Z",
     "start_time": "2025-06-13T13:04:01.746415Z"
    }
   },
   "cell_type": "code",
   "source": [
    "from sklearn.base import BaseEstimator, TransformerMixin\n",
    "import nltk\n",
    "import urlextract\n",
    "\n",
    "URL_EXTRACTOR = urlextract.URLExtract()\n",
    "STEMMER = nltk.PorterStemmer()\n",
    "\n",
    "\n",
    "class EmailToWordCounterTransformer(BaseEstimator, TransformerMixin):\n",
    "\tdef __init__(self, strip_headers=True, lower_case=True, remove_punctuation=True, replace_urls=True,\n",
    "\t\t\t\t replace_number=True, stemming=True):\n",
    "\t\tself.replace_number = replace_number\n",
    "\t\tself.replace_urls = replace_urls\n",
    "\t\tself.lower_case = lower_case\n",
    "\t\tself.stemming = stemming\n",
    "\t\tself.remove_punctuation = remove_punctuation\n",
    "\t\tself.strip_headers = strip_headers\n",
    "\n",
    "\tdef fit(self, X, y=None):\n",
    "\t\treturn self\n",
    "\n",
    "\tdef transform(self, X, y=None):\n",
    "\t\tX_transformed = []\n",
    "\t\tfor email in X:\n",
    "\t\t\ttext = email_to_text(email) or \"\"\n",
    "\t\t\tif self.lower_case:\n",
    "\t\t\t\ttext = text.lower()\n",
    "\t\t\tif self.replace_urls and URL_EXTRACTOR is not None:\n",
    "\t\t\t\turls = list(set(URL_EXTRACTOR.find_urls(text)))\n",
    "\t\t\t\turls.sort(key=lambda url: len(url), reverse=True)\n",
    "\t\t\t\tfor url in urls:\n",
    "\t\t\t\t\ttext = text.replace(url, \" URL \")\n",
    "\t\t\tif self.replace_number:\n",
    "\t\t\t\ttext = re.sub(r'\\d+(?:\\.\\d*)?(?:[eE][+-]?\\d+)?', 'NUMBER', text)\n",
    "\t\t\tif self.remove_punctuation:\n",
    "\t\t\t\ttext = re.sub(r'\\W+', ' ', text, flags=re.M)\n",
    "\t\t\tword_counts = Counter(text.split())\n",
    "\t\t\tif self.stemming and STEMMER is not None:\n",
    "\t\t\t\tstemmed_word_counts = Counter()\n",
    "\t\t\t\tfor word, count in word_counts.items():\n",
    "\t\t\t\t\tstemmed_word = STEMMER.stem(word)\n",
    "\t\t\t\t\tstemmed_word_counts[stemmed_word] += count\n",
    "\t\t\t\tword_counts = stemmed_word_counts\n",
    "\t\t\tX_transformed.append(word_counts)\n",
    "\t\treturn X_transformed"
   ],
   "id": "860013d5cd0dfa8b",
   "outputs": [],
   "execution_count": 32
  },
  {
   "metadata": {
    "ExecuteTime": {
     "end_time": "2025-06-13T13:04:26.873277Z",
     "start_time": "2025-06-13T13:04:26.849651Z"
    }
   },
   "cell_type": "code",
   "source": [
    "X_few = X_train[:3]\n",
    "X_few_wordcounts = EmailToWordCounterTransformer().fit_transform(X_few)\n",
    "X_few_wordcounts"
   ],
   "id": "e3a8e23f5899317b",
   "outputs": [
    {
     "data": {
      "text/plain": [
       "[Counter({'chuck': 1, 'murcko': 1, 'wrote': 1, 'stuff': 1, 'yawn': 1, 'r': 1}),\n",
       " Counter({'the': 11,\n",
       "          'of': 9,\n",
       "          'and': 8,\n",
       "          'all': 3,\n",
       "          'christian': 3,\n",
       "          'to': 3,\n",
       "          'by': 3,\n",
       "          'jefferson': 2,\n",
       "          'i': 2,\n",
       "          'have': 2,\n",
       "          'superstit': 2,\n",
       "          'one': 2,\n",
       "          'on': 2,\n",
       "          'been': 2,\n",
       "          'ha': 2,\n",
       "          'half': 2,\n",
       "          'rogueri': 2,\n",
       "          'teach': 2,\n",
       "          'jesu': 2,\n",
       "          'some': 1,\n",
       "          'interest': 1,\n",
       "          'quot': 1,\n",
       "          'url': 1,\n",
       "          'thoma': 1,\n",
       "          'examin': 1,\n",
       "          'known': 1,\n",
       "          'word': 1,\n",
       "          'do': 1,\n",
       "          'not': 1,\n",
       "          'find': 1,\n",
       "          'in': 1,\n",
       "          'our': 1,\n",
       "          'particular': 1,\n",
       "          'redeem': 1,\n",
       "          'featur': 1,\n",
       "          'they': 1,\n",
       "          'are': 1,\n",
       "          'alik': 1,\n",
       "          'found': 1,\n",
       "          'fabl': 1,\n",
       "          'mytholog': 1,\n",
       "          'million': 1,\n",
       "          'innoc': 1,\n",
       "          'men': 1,\n",
       "          'women': 1,\n",
       "          'children': 1,\n",
       "          'sinc': 1,\n",
       "          'introduct': 1,\n",
       "          'burnt': 1,\n",
       "          'tortur': 1,\n",
       "          'fine': 1,\n",
       "          'imprison': 1,\n",
       "          'what': 1,\n",
       "          'effect': 1,\n",
       "          'thi': 1,\n",
       "          'coercion': 1,\n",
       "          'make': 1,\n",
       "          'world': 1,\n",
       "          'fool': 1,\n",
       "          'other': 1,\n",
       "          'hypocrit': 1,\n",
       "          'support': 1,\n",
       "          'error': 1,\n",
       "          'over': 1,\n",
       "          'earth': 1,\n",
       "          'six': 1,\n",
       "          'histor': 1,\n",
       "          'american': 1,\n",
       "          'john': 1,\n",
       "          'e': 1,\n",
       "          'remsburg': 1,\n",
       "          'letter': 1,\n",
       "          'william': 1,\n",
       "          'short': 1,\n",
       "          'again': 1,\n",
       "          'becom': 1,\n",
       "          'most': 1,\n",
       "          'pervert': 1,\n",
       "          'system': 1,\n",
       "          'that': 1,\n",
       "          'ever': 1,\n",
       "          'shone': 1,\n",
       "          'man': 1,\n",
       "          'absurd': 1,\n",
       "          'untruth': 1,\n",
       "          'were': 1,\n",
       "          'perpetr': 1,\n",
       "          'upon': 1,\n",
       "          'a': 1,\n",
       "          'larg': 1,\n",
       "          'band': 1,\n",
       "          'dupe': 1,\n",
       "          'import': 1,\n",
       "          'led': 1,\n",
       "          'paul': 1,\n",
       "          'first': 1,\n",
       "          'great': 1,\n",
       "          'corrupt': 1}),\n",
       " Counter({'url': 4,\n",
       "          's': 3,\n",
       "          'group': 3,\n",
       "          'to': 3,\n",
       "          'in': 2,\n",
       "          'forteana': 2,\n",
       "          'martin': 2,\n",
       "          'an': 2,\n",
       "          'and': 2,\n",
       "          'we': 2,\n",
       "          'is': 2,\n",
       "          'yahoo': 2,\n",
       "          'unsubscrib': 2,\n",
       "          'y': 1,\n",
       "          'adamson': 1,\n",
       "          'wrote': 1,\n",
       "          'for': 1,\n",
       "          'altern': 1,\n",
       "          'rather': 1,\n",
       "          'more': 1,\n",
       "          'factual': 1,\n",
       "          'base': 1,\n",
       "          'rundown': 1,\n",
       "          'on': 1,\n",
       "          'hamza': 1,\n",
       "          'career': 1,\n",
       "          'includ': 1,\n",
       "          'hi': 1,\n",
       "          'belief': 1,\n",
       "          'that': 1,\n",
       "          'all': 1,\n",
       "          'non': 1,\n",
       "          'muslim': 1,\n",
       "          'yemen': 1,\n",
       "          'should': 1,\n",
       "          'be': 1,\n",
       "          'murder': 1,\n",
       "          'outright': 1,\n",
       "          'know': 1,\n",
       "          'how': 1,\n",
       "          'unbias': 1,\n",
       "          'memri': 1,\n",
       "          'don': 1,\n",
       "          't': 1,\n",
       "          'html': 1,\n",
       "          'rob': 1,\n",
       "          'sponsor': 1,\n",
       "          'number': 1,\n",
       "          'dvd': 1,\n",
       "          'free': 1,\n",
       "          'p': 1,\n",
       "          'join': 1,\n",
       "          'now': 1,\n",
       "          'from': 1,\n",
       "          'thi': 1,\n",
       "          'send': 1,\n",
       "          'email': 1,\n",
       "          'egroup': 1,\n",
       "          'com': 1,\n",
       "          'your': 1,\n",
       "          'use': 1,\n",
       "          'of': 1,\n",
       "          'subject': 1})]"
      ]
     },
     "execution_count": 33,
     "metadata": {},
     "output_type": "execute_result"
    }
   ],
   "execution_count": 33
  },
  {
   "metadata": {
    "ExecuteTime": {
     "end_time": "2025-06-13T13:10:14.854653Z",
     "start_time": "2025-06-13T13:10:14.846111Z"
    }
   },
   "cell_type": "code",
   "source": [
    "from scipy.sparse import csr_matrix\n",
    "\n",
    "\n",
    "class WordCounterVectorTransformer(BaseEstimator, TransformerMixin):\n",
    "\tdef __init__(self, vocabulary_size=1000):\n",
    "\t\tself.vocabulary_ = None\n",
    "\t\tself.vocabulary_size = vocabulary_size\n",
    "\n",
    "\tdef fit(self, X, y=None):\n",
    "\t\ttotal_count = Counter()\n",
    "\t\tfor word_count in X:\n",
    "\t\t\tfor word, count in word_count.items():\n",
    "\t\t\t\ttotal_count[word] += min(count, 10)\n",
    "\t\tmost_common = total_count.most_common()[:self.vocabulary_size]\n",
    "\t\tself.vocabulary_ = {word: index + 1 for index, (word, count) in enumerate(most_common)}\n",
    "\n",
    "\t\treturn self\n",
    "\n",
    "\tdef transform(self, X, y=None):\n",
    "\t\trows = []\n",
    "\t\tcols = []\n",
    "\t\tdata = []\n",
    "\t\tfor row, word_count in enumerate(X):\n",
    "\t\t\tfor word, count in word_count.items():\n",
    "\t\t\t\trows.append(row)\n",
    "\t\t\t\tcols.append(self.vocabulary_.get(word, 0))\n",
    "\t\t\t\tdata.append(count)\n",
    "\t\treturn csr_matrix((data, (rows, cols)), shape=(len(X), self.vocabulary_size + 1))\n"
   ],
   "id": "a9f1df4bf67fab4e",
   "outputs": [],
   "execution_count": 36
  },
  {
   "metadata": {
    "ExecuteTime": {
     "end_time": "2025-06-13T13:10:47.973169Z",
     "start_time": "2025-06-13T13:10:47.962709Z"
    }
   },
   "cell_type": "code",
   "source": [
    "vocab_transformer = WordCounterVectorTransformer(vocabulary_size=10)\n",
    "X_few_vectors = vocab_transformer.fit_transform(X_few_wordcounts)\n",
    "X_few_vectors"
   ],
   "id": "447652a6c83f9a8a",
   "outputs": [
    {
     "data": {
      "text/plain": [
       "<Compressed Sparse Row sparse matrix of dtype 'int64'\n",
       "\twith 20 stored elements and shape (3, 11)>"
      ]
     },
     "execution_count": 37,
     "metadata": {},
     "output_type": "execute_result"
    }
   ],
   "execution_count": 37
  },
  {
   "metadata": {
    "ExecuteTime": {
     "end_time": "2025-06-13T13:10:59.244053Z",
     "start_time": "2025-06-13T13:10:59.238144Z"
    }
   },
   "cell_type": "code",
   "source": "X_few_vectors.toarray()",
   "id": "73852a136d6467e8",
   "outputs": [
    {
     "data": {
      "text/plain": [
       "array([[ 6,  0,  0,  0,  0,  0,  0,  0,  0,  0,  0],\n",
       "       [99, 11,  9,  8,  3,  1,  3,  1,  3,  2,  3],\n",
       "       [67,  0,  1,  2,  3,  4,  1,  2,  0,  1,  0]])"
      ]
     },
     "execution_count": 38,
     "metadata": {},
     "output_type": "execute_result"
    }
   ],
   "execution_count": 38
  },
  {
   "metadata": {
    "ExecuteTime": {
     "end_time": "2025-06-13T13:11:53.438274Z",
     "start_time": "2025-06-13T13:11:53.433064Z"
    }
   },
   "cell_type": "code",
   "source": "vocab_transformer.vocabulary_",
   "id": "53abf3e402fe9f73",
   "outputs": [
    {
     "data": {
      "text/plain": [
       "{'the': 1,\n",
       " 'of': 2,\n",
       " 'and': 3,\n",
       " 'to': 4,\n",
       " 'url': 5,\n",
       " 'all': 6,\n",
       " 'in': 7,\n",
       " 'christian': 8,\n",
       " 'on': 9,\n",
       " 'by': 10}"
      ]
     },
     "execution_count": 39,
     "metadata": {},
     "output_type": "execute_result"
    }
   ],
   "execution_count": 39
  },
  {
   "metadata": {
    "ExecuteTime": {
     "end_time": "2025-06-13T13:13:35.805451Z",
     "start_time": "2025-06-13T13:13:09.669829Z"
    }
   },
   "cell_type": "code",
   "source": [
    "from sklearn.pipeline import  Pipeline\n",
    "\n",
    "preprocess_pipeline = Pipeline([\n",
    "\t(\"email_to_wordcount\", EmailToWordCounterTransformer()),\n",
    "\t(\"wordcount_to_vector\", WordCounterVectorTransformer())\n",
    "])\n",
    "\n",
    "X_train_transformed = preprocess_pipeline.fit_transform(X_train)"
   ],
   "id": "e98400cca50b9370",
   "outputs": [],
   "execution_count": 40
  },
  {
   "metadata": {
    "ExecuteTime": {
     "end_time": "2025-06-13T13:14:08.056313Z",
     "start_time": "2025-06-13T13:14:07.532678Z"
    }
   },
   "cell_type": "code",
   "source": [
    "from sklearn.linear_model import LogisticRegression\n",
    "from sklearn.model_selection import cross_val_score\n",
    "\n",
    "log_clf = LogisticRegression(solver=\"lbfgs\", max_iter=1000, random_state=42)\n",
    "score = cross_val_score(log_clf, X_train_transformed, y_train, cv=3, verbose=3)\n",
    "score.mean()"
   ],
   "id": "2d14d7b2802c3b64",
   "outputs": [
    {
     "name": "stdout",
     "output_type": "stream",
     "text": [
      "[CV] END ................................ score: (test=0.984) total time=   0.0s\n",
      "[CV] END ................................ score: (test=0.984) total time=   0.0s\n",
      "[CV] END ................................ score: (test=0.989) total time=   0.2s\n"
     ]
    },
    {
     "name": "stderr",
     "output_type": "stream",
     "text": [
      "[Parallel(n_jobs=1)]: Done   3 out of   3 | elapsed:    0.4s finished\n"
     ]
    },
    {
     "data": {
      "text/plain": [
       "np.float64(0.9854166666666666)"
      ]
     },
     "execution_count": 41,
     "metadata": {},
     "output_type": "execute_result"
    }
   ],
   "execution_count": 41
  },
  {
   "metadata": {
    "ExecuteTime": {
     "end_time": "2025-06-13T13:15:44.973994Z",
     "start_time": "2025-06-13T13:15:37.187295Z"
    }
   },
   "cell_type": "code",
   "source": [
    "from sklearn.metrics import precision_score, recall_score\n",
    "\n",
    "X_test_transformed = preprocess_pipeline.transform(X_test)\n",
    "\n",
    "log_clf = LogisticRegression(solver=\"lbfgs\", max_iter=1000, random_state=42)\n",
    "log_clf.fit(X_train_transformed, y_train)\n",
    "\n",
    "y_pred = log_clf.predict(X_test_transformed)\n",
    "\n",
    "print(\"Precision: {:.2f}%\".format(100 * precision_score(y_test, y_pred)))\n",
    "print(\"Recall: {:.2f}%\".format(100 * recall_score(y_test, y_pred)))"
   ],
   "id": "ed874a48103f7672",
   "outputs": [
    {
     "name": "stdout",
     "output_type": "stream",
     "text": [
      "Precision: 96.88%\n",
      "Recall: 97.89%\n"
     ]
    }
   ],
   "execution_count": 42
  },
  {
   "metadata": {},
   "cell_type": "code",
   "outputs": [],
   "execution_count": null,
   "source": "",
   "id": "cb265cffafda6115"
  }
 ],
 "metadata": {
  "kernelspec": {
   "display_name": "Python 3",
   "language": "python",
   "name": "python3"
  },
  "language_info": {
   "codemirror_mode": {
    "name": "ipython",
    "version": 2
   },
   "file_extension": ".py",
   "mimetype": "text/x-python",
   "name": "python",
   "nbconvert_exporter": "python",
   "pygments_lexer": "ipython2",
   "version": "2.7.6"
  }
 },
 "nbformat": 4,
 "nbformat_minor": 5
}
